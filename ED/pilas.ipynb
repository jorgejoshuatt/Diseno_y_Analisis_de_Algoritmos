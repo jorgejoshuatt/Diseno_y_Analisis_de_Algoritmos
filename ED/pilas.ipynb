{
  "nbformat": 4,
  "nbformat_minor": 0,
  "metadata": {
    "colab": {
      "name": "pilas.ipynb",
      "provenance": [],
      "authorship_tag": "ABX9TyOwfOkJ6hI45WiylBh5jsBh",
      "include_colab_link": true
    },
    "kernelspec": {
      "name": "python3",
      "display_name": "Python 3"
    }
  },
  "cells": [
    {
      "cell_type": "markdown",
      "metadata": {
        "id": "view-in-github",
        "colab_type": "text"
      },
      "source": [
        "<a href=\"https://colab.research.google.com/github/jorgejosht/Laberinto_backtracking/blob/main/pilas.ipynb\" target=\"_parent\"><img src=\"https://colab.research.google.com/assets/colab-badge.svg\" alt=\"Open In Colab\"/></a>"
      ]
    },
    {
      "cell_type": "code",
      "metadata": {
        "id": "T36BS_cKBvnB"
      },
      "source": [
        "class Stack:\r\n",
        "    def __init__( self ):\r\n",
        "        self.__data=list()\r\n",
        "\r\n",
        "    def is_empty(self):\r\n",
        "        return len(self.__data) == 0\r\n",
        "\r\n",
        "    def length( self ):\r\n",
        "        return len(self.__data)\r\n",
        "\r\n",
        "    def push( self , item ):\r\n",
        "        self.__data.append(item)\r\n",
        "\r\n",
        "    def pop(self):\r\n",
        "        if len(self.__data) > 0:\r\n",
        "            return self.__data.pop()\r\n",
        "    def peek(self):\r\n",
        "        if len(self.__data) > 0:\r\n",
        "            return self.__data[len(self.__data)-1]\r\n",
        "\r\n",
        "    def to_string( self ):\r\n",
        "        for item in self.__data:\r\n",
        "            print(f\"| {item} |\")"
      ],
      "execution_count": null,
      "outputs": []
    }
  ]
}