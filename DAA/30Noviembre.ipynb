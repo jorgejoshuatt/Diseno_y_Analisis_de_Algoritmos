{
  "nbformat": 4,
  "nbformat_minor": 0,
  "metadata": {
    "colab": {
      "name": "30Noviembre.ipynb",
      "provenance": [],
      "authorship_tag": "ABX9TyPXumpF6v1gVUJO2apX8pfS",
      "include_colab_link": true
    },
    "kernelspec": {
      "name": "python3",
      "display_name": "Python 3"
    }
  },
  "cells": [
    {
      "cell_type": "markdown",
      "metadata": {
        "id": "view-in-github",
        "colab_type": "text"
      },
      "source": [
        "<a href=\"https://colab.research.google.com/github/jorgejosht/daa_2021_1/blob/master/30Noviembre.ipynb\" target=\"_parent\"><img src=\"https://colab.research.google.com/assets/colab-badge.svg\" alt=\"Open In Colab\"/></a>"
      ]
    },
    {
      "cell_type": "code",
      "metadata": {
        "colab": {
          "base_uri": "https://localhost:8080/"
        },
        "id": "mjf2XSRr8xkv",
        "outputId": "e14d9eb4-1e4c-4147-c3b8-b03a73b9d9cd"
      },
      "source": [
        "A = \"AELASESLALSALSALSALSALSALASLSLSLSLSALALALALASALSALLSALAS\"\n",
        "P = \"LAS\"\n",
        "N = len(A)\n",
        "M = len(P)\n",
        "\n",
        "def fuerza_bruta( A , P ):\n",
        "    for i in range( N-M+1 ):\n",
        "        for j in range( M ):\n",
        "            if A[i+j] != P[j]:\n",
        "                break\n",
        "            else:\n",
        "                pass\n",
        "        if j+1 == M and A[ i + j] == P[j]:\n",
        "            print(\"Encontrado en la posicion:\",i)\n",
        "\n",
        "fuerza_bruta(A,P)"
      ],
      "execution_count": 1,
      "outputs": [
        {
          "output_type": "stream",
          "text": [
            "Encontrado en la posicion: 2\n",
            "Encontrado en la posicion: 24\n",
            "Encontrado en la posicion: 42\n",
            "Encontrado en la posicion: 53\n"
          ],
          "name": "stdout"
        }
      ]
    }
  ]
}