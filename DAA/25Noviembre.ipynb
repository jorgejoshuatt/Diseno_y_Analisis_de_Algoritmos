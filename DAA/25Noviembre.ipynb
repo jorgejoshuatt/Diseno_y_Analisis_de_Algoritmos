{
  "nbformat": 4,
  "nbformat_minor": 0,
  "metadata": {
    "colab": {
      "name": "25Noviembre.ipynb",
      "provenance": [],
      "authorship_tag": "ABX9TyPXgtxtP4elyQCxYt1xTWa6",
      "include_colab_link": true
    },
    "kernelspec": {
      "name": "python3",
      "display_name": "Python 3"
    }
  },
  "cells": [
    {
      "cell_type": "markdown",
      "metadata": {
        "id": "view-in-github",
        "colab_type": "text"
      },
      "source": [
        "<a href=\"https://colab.research.google.com/github/jorgejosht/daa_2021_1/blob/master/25Noviembre.ipynb\" target=\"_parent\"><img src=\"https://colab.research.google.com/assets/colab-badge.svg\" alt=\"Open In Colab\"/></a>"
      ]
    },
    {
      "cell_type": "code",
      "metadata": {
        "colab": {
          "base_uri": "https://localhost:8080/"
        },
        "id": "3E4Tk_cNJMp_",
        "outputId": "6a1b9344-ea8b-4ffd-fd79-3fb5c8c8d8f2"
      },
      "source": [
        "frase =\"\"\"El lema que anima a la Universidad Nacional, Por mi raza hablará el espíritu, revela la vocación humanística con la que fue concebida. El autor de esta célebre frase, José Vasconcelos, asumió la rectoría en 1920, en una época en que las esperanzas de la Revolución aún estaban vivas,\n",
        " había una gran fe en la Patria y el ánimo redentor se extendía en el ambiente.\"\"\"\n",
        "\n",
        "frase = frase.strip().replace(\"\\n\",\"\").replace(\",\",\"\").replace(\".\",\"\").lower().split(\" \")\n",
        "print(frase)\n",
        "frecuencias ={}\n",
        "for index in range(len(frase)):\n",
        "  if frase[index] in frecuencias:\n",
        "    frecuencias[frase[index]]+=1\n",
        "  else:\n",
        "    frecuencias[frase[index]]=1\n",
        "print(frecuencias)\n",
        "\n",
        "\n"
      ],
      "execution_count": 9,
      "outputs": [
        {
          "output_type": "stream",
          "text": [
            "['el', 'lema', 'que', 'anima', 'a', 'la', 'universidad', 'nacional', 'por', 'mi', 'raza', 'hablará', 'el', 'espíritu', 'revela', 'la', 'vocación', 'humanística', 'con', 'la', 'que', 'fue', 'concebida', 'el', 'autor', 'de', 'esta', 'célebre', 'frase', 'josé', 'vasconcelos', 'asumió', 'la', 'rectoría', 'en', '1920', 'en', 'una', 'época', 'en', 'que', 'las', 'esperanzas', 'de', 'la', 'revolución', 'aún', 'estaban', 'vivas', 'había', 'una', 'gran', 'fe', 'en', 'la', 'patria', 'y', 'el', 'ánimo', 'redentor', 'se', 'extendía', 'en', 'el', 'ambiente']\n",
            "{'el': 5, 'lema': 1, 'que': 3, 'anima': 1, 'a': 1, 'la': 6, 'universidad': 1, 'nacional': 1, 'por': 1, 'mi': 1, 'raza': 1, 'hablará': 1, 'espíritu': 1, 'revela': 1, 'vocación': 1, 'humanística': 1, 'con': 1, 'fue': 1, 'concebida': 1, 'autor': 1, 'de': 2, 'esta': 1, 'célebre': 1, 'frase': 1, 'josé': 1, 'vasconcelos': 1, 'asumió': 1, 'rectoría': 1, 'en': 5, '1920': 1, 'una': 2, 'época': 1, 'las': 1, 'esperanzas': 1, 'revolución': 1, 'aún': 1, 'estaban': 1, 'vivas': 1, 'había': 1, 'gran': 1, 'fe': 1, 'patria': 1, 'y': 1, 'ánimo': 1, 'redentor': 1, 'se': 1, 'extendía': 1, 'ambiente': 1}\n"
          ],
          "name": "stdout"
        }
      ]
    },
    {
      "cell_type": "code",
      "metadata": {
        "colab": {
          "base_uri": "https://localhost:8080/"
        },
        "id": "-KYbs6OtJnwx",
        "outputId": "c2fa14b3-e4d1-4fa1-dc20-c4fc16a6f844"
      },
      "source": [
        "frase =\"\"\"El lema que anima a la Universidad Nacional, Por mi raza hablará el espíritu, revela la vocación humanística con la que fue concebida. El autor de esta célebre frase, José Vasconcelos, asumió la rectoría en 1920, en una época en que las esperanzas de la Revolución aún estaban vivas,\n",
        " había una gran fe en la Patria y el ánimo redentor se extendía en el ambiente.\"\"\"\n",
        "\n",
        "frase = frase.strip().replace(\"\\n\",\"\").replace(\",\",\"\").replace(\".\",\"\").lower().split(\" \")\n",
        "print(frase)\n",
        "frecuencias ={}\n",
        "for index in range(len(frase)):\n",
        "  print(hash(frase[index]))\n",
        "  if frase[index] in frecuencias:\n",
        "    frecuencias[frase[index]]+=1\n",
        "  else:\n",
        "    frecuencias[frase[index]]=1\n",
        "print(frecuencias)"
      ],
      "execution_count": 8,
      "outputs": [
        {
          "output_type": "stream",
          "text": [
            "['el', 'lema', 'que', 'anima', 'a', 'la', 'universidad', 'nacional', 'por', 'mi', 'raza', 'hablará', 'el', 'espíritu', 'revela', 'la', 'vocación', 'humanística', 'con', 'la', 'que', 'fue', 'concebida', 'el', 'autor', 'de', 'esta', 'célebre', 'frase', 'josé', 'vasconcelos', 'asumió', 'la', 'rectoría', 'en', '1920', 'en', 'una', 'época', 'en', 'que', 'las', 'esperanzas', 'de', 'la', 'revolución', 'aún', 'estaban', 'vivas', 'había', 'una', 'gran', 'fe', 'en', 'la', 'patria', 'y', 'el', 'ánimo', 'redentor', 'se', 'extendía', 'en', 'el', 'ambiente']\n",
            "-7338973111749945655\n",
            "6987188611409549730\n",
            "-2132817604354506609\n",
            "8168352800388399780\n",
            "-7611061846344453893\n",
            "-4727084331323971469\n",
            "-5034556585924915159\n",
            "4892638348772830793\n",
            "-3611067634299329416\n",
            "473982185498854978\n",
            "-8687106925655970652\n",
            "8858993259095859262\n",
            "-7338973111749945655\n",
            "-166884564460718913\n",
            "6288434476836694240\n",
            "-4727084331323971469\n",
            "2899132050769048413\n",
            "2790753219987075395\n",
            "2383207082393955008\n",
            "-4727084331323971469\n",
            "-2132817604354506609\n",
            "2825082326915144695\n",
            "-6401891712855598695\n",
            "-7338973111749945655\n",
            "-7001936992854943227\n",
            "2721568871529324441\n",
            "-1652588657673456403\n",
            "3017600033905682487\n",
            "8248101681256183361\n",
            "-6768425652009956768\n",
            "-3056884922823268561\n",
            "-3159314137414137578\n",
            "-4727084331323971469\n",
            "8266313054278037795\n",
            "-140366397875248277\n",
            "3539016369359324583\n",
            "-140366397875248277\n",
            "-8469132474226653187\n",
            "-3839333669040273483\n",
            "-140366397875248277\n",
            "-2132817604354506609\n",
            "2483340051462218671\n",
            "1743745733296568109\n",
            "2721568871529324441\n",
            "-4727084331323971469\n",
            "-8378549959163364953\n",
            "6058840390204220918\n",
            "4777801783986742434\n",
            "9087415026165970287\n",
            "-8887155058860614615\n",
            "-8469132474226653187\n",
            "6875995182574927937\n",
            "2359239441171894425\n",
            "-140366397875248277\n",
            "-4727084331323971469\n",
            "-1505731331654885941\n",
            "6946128689985472196\n",
            "-7338973111749945655\n",
            "-6162229062512337245\n",
            "-3048505037241996948\n",
            "-1283591827664048909\n",
            "-1169169971907677080\n",
            "-140366397875248277\n",
            "-7338973111749945655\n",
            "8198779951301428186\n",
            "{'el': 5, 'lema': 1, 'que': 3, 'anima': 1, 'a': 1, 'la': 6, 'universidad': 1, 'nacional': 1, 'por': 1, 'mi': 1, 'raza': 1, 'hablará': 1, 'espíritu': 1, 'revela': 1, 'vocación': 1, 'humanística': 1, 'con': 1, 'fue': 1, 'concebida': 1, 'autor': 1, 'de': 2, 'esta': 1, 'célebre': 1, 'frase': 1, 'josé': 1, 'vasconcelos': 1, 'asumió': 1, 'rectoría': 1, 'en': 5, '1920': 1, 'una': 2, 'época': 1, 'las': 1, 'esperanzas': 1, 'revolución': 1, 'aún': 1, 'estaban': 1, 'vivas': 1, 'había': 1, 'gran': 1, 'fe': 1, 'patria': 1, 'y': 1, 'ánimo': 1, 'redentor': 1, 'se': 1, 'extendía': 1, 'ambiente': 1}\n"
          ],
          "name": "stdout"
        }
      ]
    }
  ]
}