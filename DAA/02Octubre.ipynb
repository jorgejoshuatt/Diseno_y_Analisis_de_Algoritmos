{
  "nbformat": 4,
  "nbformat_minor": 0,
  "metadata": {
    "colab": {
      "name": "02Octubre.ipynb",
      "provenance": [],
      "toc_visible": true,
      "authorship_tag": "ABX9TyP/6TrZdf5+OGCqAI2KdIWo",
      "include_colab_link": true
    },
    "kernelspec": {
      "name": "python3",
      "display_name": "Python 3"
    }
  },
  "cells": [
    {
      "cell_type": "markdown",
      "metadata": {
        "id": "view-in-github",
        "colab_type": "text"
      },
      "source": [
        "<a href=\"https://colab.research.google.com/github/jorgejosht/daa_2021_1/blob/master/02Octubre.ipynb\" target=\"_parent\"><img src=\"https://colab.research.google.com/assets/colab-badge.svg\" alt=\"Open In Colab\"/></a>"
      ]
    },
    {
      "cell_type": "code",
      "metadata": {
        "id": "V0uEfjlBk6AI",
        "outputId": "5c25a1c7-3263-4897-dd54-926af4f02e23",
        "colab": {
          "base_uri": "https://localhost:8080/",
          "height": 129
        }
      },
      "source": [
        "import xlrd\n",
        "class Array3D:\n",
        "    def __init__(self, depth, rows, cols):\n",
        "        self.__depth=depth\n",
        "        self.__rows=rows\n",
        "        self.__cols= cols\n",
        "        self.__arreglo=[[[0 for j in range(cols)] for i in range(rows)] for k in range(depth)]\n",
        "    \n",
        "    def get_num_depth(self):\n",
        "        return self.__depth\n",
        "    \n",
        "    def get_num_rows(self):\n",
        "        return self.__rows\n",
        "    \n",
        "    def get_num_cols(self):\n",
        "        return self.__cols\n",
        "\n",
        "    def set_item(self, depth,rows,cols,value):\n",
        "        self.__arreglo[depth][rows][cols]=value\n",
        "\n",
        "    def get_item(self,depth,rows,cols):\n",
        "        return self.__arreglo[depth][rows][cols]\n",
        "\n",
        "\n",
        "\n",
        "def main():\n",
        "    a3=Array3D(34,33,14)\n",
        "    for anio in range(2017,2019,1):\n",
        "        ruta='/content/'+str(anio)+'Precip.csv'\n",
        "        #print(ruta)\n",
        "        archivo=xlrd.open_workbook(filename=ruta)\n",
        "        hoja=archivo.sheet_by_index(0)\n",
        "        for r in range(1,33,1):\n",
        "            for c in range(0,14,1):\n",
        "                #print(hoja.cell_value(r,c), end='')                \n",
        "                a3.set_item(anio-2017,r-1,c,hoja.cell_value(r,c))\n",
        "    a=int(input(\"Seleccione un año (2017-2018): \"))\n",
        "    e=int(input(\"Seleccione un Estado (1-32):\"))\n",
        "    m=int(input(\"Seleccione un mes (1-12): \"))\n",
        "    print(f\"En el estado de {a3.get_item(0,e,0)} llovió un promedio de {a3.get_item(a-2017,e,m)} centímetros cúbicos en el mes de {a3.get_item(0,0,m)} del año {a}\")\n",
        "    for m in range(1,13,1): \n",
        "      total=total+float(a3.get_item(a,e,m))\n",
        "    promedio=total/12\n",
        "    print(f\"El promedio anual del estado {a3.get_item(a,e,m)} es {promedio}\")\n",
        "    print(f\"La suma total de los 12 meses del estado {a3.get_item(a,e,m)} es {total}\")\n",
        "main()\n"
      ],
      "execution_count": 37,
      "outputs": [
        {
          "output_type": "error",
          "ename": "SyntaxError",
          "evalue": "ignored",
          "traceback": [
            "\u001b[0;36m  File \u001b[0;32m\"<ipython-input-37-a19082f1913c>\"\u001b[0;36m, line \u001b[0;32m45\u001b[0m\n\u001b[0;31m    print(f\"La suma total de los 12 meses del estado {a3.get_item(a,e,m)} es {total\")\u001b[0m\n\u001b[0m         ^\u001b[0m\n\u001b[0;31mSyntaxError\u001b[0m\u001b[0;31m:\u001b[0m f-string: expecting '}'\n"
          ]
        }
      ]
    }
  ]
}