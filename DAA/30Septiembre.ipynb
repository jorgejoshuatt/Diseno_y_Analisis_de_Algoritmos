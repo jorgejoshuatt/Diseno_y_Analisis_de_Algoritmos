{
  "nbformat": 4,
  "nbformat_minor": 0,
  "metadata": {
    "colab": {
      "name": "30Septiembre.ipynb",
      "provenance": [],
      "authorship_tag": "ABX9TyNjI83IKDYes3j4ctEudqLn",
      "include_colab_link": true
    },
    "kernelspec": {
      "name": "python3",
      "display_name": "Python 3"
    }
  },
  "cells": [
    {
      "cell_type": "markdown",
      "metadata": {
        "id": "view-in-github",
        "colab_type": "text"
      },
      "source": [
        "<a href=\"https://colab.research.google.com/github/jorgejosht/daa_2021_1/blob/master/30Septiembre.ipynb\" target=\"_parent\"><img src=\"https://colab.research.google.com/assets/colab-badge.svg\" alt=\"Open In Colab\"/></a>"
      ]
    },
    {
      "cell_type": "markdown",
      "metadata": {
        "id": "NbUIAI-WQMfz"
      },
      "source": [
        "# Palindromos\n",
        "Es una palabra que se lee, de igual forma de un sentido y de sentido inverso, ejemplo:\n",
        "1. sugus\n",
        "2. oso\n",
        "3. reconocer\n",
        "4. 10101\n",
        "\n",
        "#planteamiento del prbolema:\n",
        "Se desea encontrar todos los palíndromos que existen en la franja horaria de un día completo, tomando como horario inicial las 00:00 y como horario final las 23:59 horas\n",
        "El algoritmo debe mostrar en pantalla todos los palíndromos existentes en ese rango, al final debe mostrar el conteo total de palíndromos existentes."
      ]
    },
    {
      "cell_type": "code",
      "metadata": {
        "id": "Obdd7fYeP9ND",
        "outputId": "42814a0a-bc6e-412a-8458-a2620507a12f",
        "colab": {
          "base_uri": "https://localhost:8080/",
          "height": 527
        }
      },
      "source": [
        "for h in range(0,24,1):\n",
        "  for m in range (0,60,1):\n",
        "    horario=str(h)+\":\"+str(m)\n",
        "    if h<10:\n",
        "      horario=\"0\"+str(h)+\":\"+str(m)\n",
        "    if m<10:\n",
        "      horario=str(h)+\":\"+\"0\"+str(m)\n",
        "    \n",
        "    palindromo = horario[::-1]\n",
        "    if palindromo==horario:\n",
        "      print(f\"{horario} es un palindromo\\n\")"
      ],
      "execution_count": 24,
      "outputs": [
        {
          "output_type": "stream",
          "text": [
            "01:10 es un palindromo\n",
            "\n",
            "02:20 es un palindromo\n",
            "\n",
            "03:30 es un palindromo\n",
            "\n",
            "04:40 es un palindromo\n",
            "\n",
            "05:50 es un palindromo\n",
            "\n",
            "10:01 es un palindromo\n",
            "\n",
            "11:11 es un palindromo\n",
            "\n",
            "12:21 es un palindromo\n",
            "\n",
            "13:31 es un palindromo\n",
            "\n",
            "14:41 es un palindromo\n",
            "\n",
            "15:51 es un palindromo\n",
            "\n",
            "20:02 es un palindromo\n",
            "\n",
            "21:12 es un palindromo\n",
            "\n",
            "22:22 es un palindromo\n",
            "\n",
            "23:32 es un palindromo\n",
            "\n"
          ],
          "name": "stdout"
        }
      ]
    },
    {
      "cell_type": "code",
      "metadata": {
        "id": "-3jjtNoRR0eK"
      },
      "source": [
        ""
      ],
      "execution_count": null,
      "outputs": []
    }
  ]
}