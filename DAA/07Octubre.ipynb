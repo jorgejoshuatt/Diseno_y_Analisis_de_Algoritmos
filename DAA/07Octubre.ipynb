{
  "nbformat": 4,
  "nbformat_minor": 0,
  "metadata": {
    "colab": {
      "name": "07Octubre.ipynb",
      "provenance": [],
      "authorship_tag": "ABX9TyM+mWFAn9ByuvS4mI/Ynsuw",
      "include_colab_link": true
    },
    "kernelspec": {
      "name": "python3",
      "display_name": "Python 3"
    }
  },
  "cells": [
    {
      "cell_type": "markdown",
      "metadata": {
        "id": "view-in-github",
        "colab_type": "text"
      },
      "source": [
        "<a href=\"https://colab.research.google.com/github/jorgejosht/daa_2021_1/blob/master/07Octubre.ipynb\" target=\"_parent\"><img src=\"https://colab.research.google.com/assets/colab-badge.svg\" alt=\"Open In Colab\"/></a>"
      ]
    },
    {
      "cell_type": "markdown",
      "metadata": {
        "id": "ESzejtq6S_2R"
      },
      "source": [
        "# Busqueda lineal\n",
        "Dado un conjunto de datos no ordenados, la busqueda lineal consiste en recorrer el conjunto de datos de inicio a final, moviendose de uno en uno hasta encontrar el elemento o llegar al final del conjunto.\n",
        "\n",
        "datos=[4,18,47,4,34,14,78,12,48,21,31,19,1,3,5]\n",
        "\n",
        "#Busqueda binaria\n",
        "Funciona sobre un conjunto de datos lineal ordenado, consiste en dividir el conjunto en mitades y buscar en esa mitad, si el elemento buscado no está en la mitad, preguntas si el elemento está a la derecha o a la izquierda, haces la lista igual a la mitad correspondiente y repites el proceso\n",
        "\n",
        "L=[1, 2, 3, 4, 4, 5, 12, 14, 18, 19, 21, 31, 34, 47, 48, 78]\n",
        "DER=longitud(L)-1\n",
        "\n",
        "IZQ=0\n",
        "\n",
        "MID=0\n",
        "\n",
        "MID apuntará a la mitad del segmento de busqueda\n",
        "\n",
        "buscado es el valor a buscar\n",
        "\n",
        "1. Hacer DER = longitud(L)-1\n",
        "\n",
        "2. Hacer IZQ=0\n",
        "\n",
        "3. si IZQ>DER significa que hay un error en los datos\n",
        "\n",
        "4. calcular MID=int((IZQ+DER)/2)\n",
        "\n",
        "5. mientras L[MID]!=buscado hacer\n",
        "\n",
        "6. Preguntar L[MID]> buscado\n",
        "          hacer DER=MID\n",
        "   De lo contrario IZQ=MID\n",
        "          hacer IZQ=MID\n",
        "   Preguntar(DER-IZQ)%2\n",
        "          MID=(IZQ+((DER-IZQ)/2))+1\n",
        "   De lo contrario\n",
        "          MID=IZQ+((DER-IZQ)/2)\n",
        "\n",
        "7. Return MID "
      ]
    },
    {
      "cell_type": "code",
      "metadata": {
        "id": "wAkLinu8TqxK",
        "outputId": "84b169ad-5933-42d8-8a51-c255fb673dda",
        "colab": {
          "base_uri": "https://localhost:8080/"
        }
      },
      "source": [
        "\"\"\"\n",
        "Busqueda lineal: Regresa la posición del elemento buscado si se encuentra de la lista.\n",
        "Regresa -1 si el elemento no existe dentro de la lista.\n",
        "\"\"\"\n",
        "def busq_lineal(L, buscado):\n",
        "  indice=-1\n",
        "  contador=0\n",
        "  for idx in range(len(L)):\n",
        "    contador+=1\n",
        "    if L[idx]==buscado:\n",
        "      indice=idx\n",
        "      break\n",
        "  print(f\"Número de comparaciones realizadas: {contador}\")\n",
        "  return indice\n",
        "\"\"\"\n",
        "Busqueda binaria\n",
        "\"\"\"\n",
        "def busqueda_binaria(L,buscado):\n",
        "  IZQ=0\n",
        "  DER=len(L)-1\n",
        "  MID=int((IZQ+DER)/2)\n",
        "  if len(L)%2==0:\n",
        "    MID=(DER//2)+1\n",
        "  else:\n",
        "    MID=DER//2\n",
        "  while (L[MID]!=buscado):\n",
        "    if L[MID]>buscado:\n",
        "      DER=MID\n",
        "    else:\n",
        "      IZQ=MID\n",
        "    if (DER-IZQ)%2==0:\n",
        "      MID=(IZQ+((DER-IZQ)//2))+1\n",
        "    else:\n",
        "      MID=IZQ+((DER-IZQ)//2)-1\n",
        "  return MID\n",
        "\n",
        "def main():\n",
        "  datos=[4,18,47,2,34,14,78,12,48,21,31,19,1,3,5]\n",
        "  dato=int(input(\"¿Qué valor quieres buscar? \"))\n",
        "  resultado=busq_lineal(datos, dato)\n",
        "  print(\"Resultado: \", resultado)\n",
        "  print(\"\\n\\nBusqueda lineal en una lista ordenada\")\n",
        "  datos.sort()\n",
        "  print(datos)\n",
        "  resultado=busq_lineal(datos, dato)\n",
        "  print(\"Resultado: \", resultado)\n",
        "\n",
        "  print(\"\\n\\nBusqueda binaria\")\n",
        "  posicion=busqueda_binaria(datos,dato)\n",
        "  print(f\"Resultado: {posicion}\")\n",
        "main()\n",
        "\n"
      ],
      "execution_count": 17,
      "outputs": [
        {
          "output_type": "stream",
          "text": [
            "¿Qué valor quieres buscar? 31\n",
            "Número de comparaciones realizadas: 11\n",
            "Resultado:  10\n",
            "\n",
            "\n",
            "Busqueda lineal en una lista ordenada\n",
            "[1, 2, 3, 4, 5, 12, 14, 18, 19, 21, 31, 34, 47, 48, 78]\n",
            "Número de comparaciones realizadas: 11\n",
            "Resultado:  10\n",
            "\n",
            "\n",
            "Busqueda binaria\n",
            "Resultado: 10\n"
          ],
          "name": "stdout"
        }
      ]
    }
  ]
}