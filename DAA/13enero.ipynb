{
  "nbformat": 4,
  "nbformat_minor": 0,
  "metadata": {
    "colab": {
      "name": "13enero.ipynb",
      "provenance": [],
      "authorship_tag": "ABX9TyMzWJxCIeP/Ypk6Af+vcg2a",
      "include_colab_link": true
    },
    "kernelspec": {
      "name": "python3",
      "display_name": "Python 3"
    }
  },
  "cells": [
    {
      "cell_type": "markdown",
      "metadata": {
        "id": "view-in-github",
        "colab_type": "text"
      },
      "source": [
        "<a href=\"https://colab.research.google.com/github/jorgejosht/daa_2021_1/blob/master/13enero.ipynb\" target=\"_parent\"><img src=\"https://colab.research.google.com/assets/colab-badge.svg\" alt=\"Open In Colab\"/></a>"
      ]
    },
    {
      "cell_type": "code",
      "metadata": {
        "id": "LqJ_YenThpX3"
      },
      "source": [
        "class NodoArbol:\r\n",
        "  def __init__(self,dato, left=None, right=None):\r\n",
        "    self.dato=dato\r\n",
        "    self.left=left\r\n",
        "    self.right=right"
      ],
      "execution_count": 16,
      "outputs": []
    },
    {
      "cell_type": "code",
      "metadata": {
        "id": "Y0zwiSMpiZrk"
      },
      "source": [
        "class BinarySearchTree:\r\n",
        "  def __init__(self):\r\n",
        "    self.__root=None\r\n",
        "  \r\n",
        "  def insert(self,value):\r\n",
        "    if self.__root==None:\r\n",
        "      self.__root=NodoArbol(value,None,None)\r\n",
        "    else:\r\n",
        "      self.__insert_nodo__(self.__root,value)\r\n",
        "    \r\n",
        "  def __insert_nodo__(self,nodo,value):\r\n",
        "    if nodo.dato==value:\r\n",
        "      pass\r\n",
        "    elif value<nodo.dato:\r\n",
        "      if nodo.left==None:\r\n",
        "        nodo.left=NodoArbol(value,None,None)\r\n",
        "      else:\r\n",
        "        self.__insert_nodo__(nodo.left,value)\r\n",
        "    else:\r\n",
        "      if nodo.right==None:\r\n",
        "        nodo.right=NodoArbol(value,None,None)\r\n",
        "      else:\r\n",
        "        return self.__busca_nodo(self.__root,value)\r\n",
        "  \r\n",
        "  def __busca_nodo(self,nodo,value):\r\n",
        "    if nodo==None:\r\n",
        "      return None\r\n",
        "    elif nodo.dato==value:\r\n",
        "      return nodo.dato\r\n",
        "    elif value<nodo.dato:\r\n",
        "      return self.__busca_nodo(nodo.left,value)\r\n",
        "    else:\r\n",
        "      return self.__busca_nodo(nodo.right,value)\r\n",
        "\r\n",
        "  def transversal(self,format=\"inorden\"):\r\n",
        "    if format==\"inorden\":\r\n",
        "      self.__recorrido_in(self.__root)\r\n",
        "    elif format==\"preorden\":\r\n",
        "      self.__recorrido_pre(self.__root)\r\n",
        "    elif format==\"posorden\":\r\n",
        "      self.__recorrido_pos(self.__root)\r\n",
        "    else:\r\n",
        "      print(\"Formato de recorrido no válido\")\r\n",
        "  def __recorrido_pre(self,nodo):\r\n",
        "    if nodo!=None:\r\n",
        "      print(nodo.dato, end=\",\")\r\n",
        "      self.__recorrido_pre(nodo.left)\r\n",
        "      self.__recorrido_pre(nodo.right)\r\n",
        "\r\n",
        "  def __recorrido_in(self,nodo):\r\n",
        "    if nodo!=None:\r\n",
        "      self.__recorrido_in(nodo.left)\r\n",
        "      print(nodo.dato, end=\",\")\r\n",
        "      self.__recorrido_in(nodo.right)\r\n",
        "\r\n",
        "  def __recorrido_pos(self,nodo):\r\n",
        "    if nodo!=None:\r\n",
        "      self.__recorrido_pos(nodo.left)\r\n",
        "      self.__recorrido_pos(nodo.right)\r\n",
        "      print(nodo.dato, end=\",\")"
      ],
      "execution_count": 14,
      "outputs": []
    },
    {
      "cell_type": "code",
      "metadata": {
        "id": "haCGsZzUj8gd",
        "colab": {
          "base_uri": "https://localhost:8080/"
        },
        "outputId": "424477b0-941e-4c2a-dd65-ef9969148edf"
      },
      "source": [
        "arbolb=BinarySearchTree()\r\n",
        "arbolb.insert(50)\r\n",
        "arbolb.insert(30)\r\n",
        "arbolb.insert(20)\r\n",
        "print(\"Recorrido preorden: \")\r\n",
        "arbolb.transversal(format=\"preorden\")\r\n",
        "print(\"\\nRecorrido inorden: \")\r\n",
        "arbolb.transversal()\r\n",
        "print(\"\\nRecorrido posorden\")\r\n",
        "arbolb.transversal(format=\"posorden\")\r\n"
      ],
      "execution_count": 17,
      "outputs": [
        {
          "output_type": "stream",
          "text": [
            "Recorrido preorden: \n",
            "50,30,20,\n",
            "Recorrido inorden: \n",
            "20,30,50,\n",
            "Recorrido posorden\n",
            "20,30,50,"
          ],
          "name": "stdout"
        }
      ]
    }
  ]
}