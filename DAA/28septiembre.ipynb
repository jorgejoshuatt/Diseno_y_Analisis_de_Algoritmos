{
  "nbformat": 4,
  "nbformat_minor": 0,
  "metadata": {
    "colab": {
      "name": "28septiembre.ipynb",
      "provenance": [],
      "toc_visible": true,
      "authorship_tag": "ABX9TyOCnlf2iqfn+2UPIDxpYwcS",
      "include_colab_link": true
    },
    "kernelspec": {
      "name": "python3",
      "display_name": "Python 3"
    }
  },
  "cells": [
    {
      "cell_type": "markdown",
      "metadata": {
        "id": "view-in-github",
        "colab_type": "text"
      },
      "source": [
        "<a href=\"https://colab.research.google.com/github/jorgejosht/daa_2021_1/blob/master/28septiembre.ipynb\" target=\"_parent\"><img src=\"https://colab.research.google.com/assets/colab-badge.svg\" alt=\"Open In Colab\"/></a>"
      ]
    },
    {
      "cell_type": "markdown",
      "metadata": {
        "id": "U67yKlZyCvDl"
      },
      "source": [
        "#**Sección 1**"
      ]
    },
    {
      "cell_type": "markdown",
      "metadata": {
        "id": "A6a5ENc6C0OX"
      },
      "source": [
        "Aprender a programar en python con la herrramienta de colab research.\n",
        "Y guardar cambios en nuestro repositorio de github."
      ]
    },
    {
      "cell_type": "markdown",
      "metadata": {
        "id": "U3PsAN97DyDL"
      },
      "source": [
        "##Código de ejemplo\n",
        "*negritas*\n",
        "_Itálica_\n",
        "edad=10\n",
        "print(edad)\n"
      ]
    },
    {
      "cell_type": "code",
      "metadata": {
        "id": "Cx6wScMJGeIL",
        "outputId": "8b9ad890-b024-45db-8786-b0ae77a65d61",
        "colab": {
          "base_uri": "https://localhost:8080/",
          "height": 34
        }
      },
      "source": [
        "frutas=[]\n",
        "frutas.append('Manzana')\n",
        "frutas.append('Piña')\n",
        "frutas.append('Kiwi')\n",
        "print(frutas)"
      ],
      "execution_count": 4,
      "outputs": [
        {
          "output_type": "stream",
          "text": [
            "['Manzana', 'Piña', 'Kiwi']\n"
          ],
          "name": "stdout"
        }
      ]
    },
    {
      "cell_type": "code",
      "metadata": {
        "id": "LYv9zrXVHsn0"
      },
      "source": [
        "archivo=open('prueba_daa.txt','wt')\n",
        "archivo.write(\"hola mundo\")\n",
        "archivo.close()"
      ],
      "execution_count": 3,
      "outputs": []
    }
  ]
}