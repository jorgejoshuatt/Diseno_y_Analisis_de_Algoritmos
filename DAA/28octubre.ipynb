{
  "nbformat": 4,
  "nbformat_minor": 0,
  "metadata": {
    "colab": {
      "name": "28octubre.ipynb",
      "provenance": [],
      "authorship_tag": "ABX9TyPh1fkL6Y7MUytpT3tUJyUx",
      "include_colab_link": true
    },
    "kernelspec": {
      "name": "python3",
      "display_name": "Python 3"
    }
  },
  "cells": [
    {
      "cell_type": "markdown",
      "metadata": {
        "id": "view-in-github",
        "colab_type": "text"
      },
      "source": [
        "<a href=\"https://colab.research.google.com/github/jorgejosht/daa_2021_1/blob/master/28octubre.ipynb\" target=\"_parent\"><img src=\"https://colab.research.google.com/assets/colab-badge.svg\" alt=\"Open In Colab\"/></a>"
      ]
    },
    {
      "cell_type": "code",
      "metadata": {
        "id": "chUkLHzMuLdi",
        "outputId": "eaba9c07-f27b-4d8f-d0f5-ecc05ed0d41d",
        "colab": {
          "base_uri": "https://localhost:8080/",
          "height": 306
        }
      },
      "source": [
        "h1 = 0\n",
        "h2 = 0\n",
        "m1 = 0\n",
        "m2 = 0   # 1440 + 24 *6\n",
        "contador = 0   # 5 + (1440 + ?) * 2 + 144 + 24 + 2= 3057\n",
        "\n",
        "while [h1, h2, m1, m2] != [2,3,5,9]:\n",
        "  if [h1, h2] == [m2, m1]:\n",
        "    \n",
        "    print(h1, h2,\":\", m1, m2)    \n",
        "    m2 = m2 + 1\n",
        "\n",
        "    if m2 == 10:\n",
        "      m2 = 0\n",
        "      m1 = m1 + 1\n",
        "\n",
        "    if m1 == 6:\n",
        "      h2 = h2 + 1\n",
        "      m2 = 0\n",
        "    contador = contador + 1\n",
        "\n",
        "  m2 = m2 + 1\n",
        "  if m2 == 10:\n",
        "      m2 = 0\n",
        "      m1 = m1 + 1\n",
        "  if m1 == 6:\n",
        "    m1 = 0\n",
        "    h2 = h2 +1\n",
        "  if h2 == 10:\n",
        "    h2 = 0\n",
        "    h1 = h1 +1\n",
        "print(\"Numero de palindromos: \",contador)"
      ],
      "execution_count": 5,
      "outputs": [
        {
          "output_type": "stream",
          "text": [
            "0 0 : 0 0\n",
            "0 1 : 1 0\n",
            "0 2 : 2 0\n",
            "0 3 : 3 0\n",
            "0 4 : 4 0\n",
            "0 5 : 5 0\n",
            "1 0 : 0 1\n",
            "1 1 : 1 1\n",
            "1 2 : 2 1\n",
            "1 3 : 3 1\n",
            "1 4 : 4 1\n",
            "1 5 : 5 1\n",
            "2 0 : 0 2\n",
            "2 1 : 1 2\n",
            "2 2 : 2 2\n",
            "2 3 : 3 2\n",
            "Numero de palindromos:  16\n"
          ],
          "name": "stdout"
        }
      ]
    },
    {
      "cell_type": "code",
      "metadata": {
        "id": "oUhcL4OWwxAr",
        "outputId": "856f856a-40ba-49a0-e74d-f65da626f26f",
        "colab": {
          "base_uri": "https://localhost:8080/",
          "height": 442
        }
      },
      "source": [
        "horario=\"0000\"\n",
        "contador=0\n",
        "while horario!=\"2359\":\n",
        "  inv=horario[::-1]\n",
        "  if horario==inv:\n",
        "    contador+=1\n",
        "    print(horario[0:2],\":\",horario[2:4])\n",
        "  new=int(horario)\n",
        "  new+=1\n",
        "  horario=str(new).zfill(4)\n",
        "print(\"son \",contador,\"palindromos\")\n",
        "# 2 + (2359  * 4 ) + 24 =9462"
      ],
      "execution_count": 4,
      "outputs": [
        {
          "output_type": "stream",
          "text": [
            "00 : 00\n",
            "01 : 10\n",
            "02 : 20\n",
            "03 : 30\n",
            "04 : 40\n",
            "05 : 50\n",
            "06 : 60\n",
            "07 : 70\n",
            "08 : 80\n",
            "09 : 90\n",
            "10 : 01\n",
            "11 : 11\n",
            "12 : 21\n",
            "13 : 31\n",
            "14 : 41\n",
            "15 : 51\n",
            "16 : 61\n",
            "17 : 71\n",
            "18 : 81\n",
            "19 : 91\n",
            "20 : 02\n",
            "21 : 12\n",
            "22 : 22\n",
            "23 : 32\n",
            "son  24 palindromos\n"
          ],
          "name": "stdout"
        }
      ]
    },
    {
      "cell_type": "code",
      "metadata": {
        "id": "QWG4Yn_d0tsy",
        "outputId": "17fa5e9c-549c-40dc-ab90-01499aca46b8",
        "colab": {
          "base_uri": "https://localhost:8080/",
          "height": 306
        }
      },
      "source": [
        "lista=[]\n",
        "for i in range(0,24,1):   # 24\n",
        "  for j in range(0,60,1): # 60    1440\n",
        "    if i<10:\n",
        "      if j<10:\n",
        "        lista.append(\"0\"+str(i)+\":\"+\"0\"+str(j))\n",
        "      elif j>=10:\n",
        "        lista.append(\"0\"+str(i)+\":\"+str(j))\n",
        "    else:\n",
        "      if i>=10:\n",
        "        if j<10:\n",
        "          lista.append(str(i)+\":\"+\"0\"+str(j))\n",
        "        elif j>=10:\n",
        "          lista.append(str(i)+\":\"+str(j))\n",
        "# 1440 + 2 + 1440 + 16 * 2 = 2914\n",
        "lista2=[]\n",
        "contador=0\n",
        "for i in range(len(lista)): # 1440\n",
        "  x=lista[i][::-1]\n",
        "  if x==lista[i]:\n",
        "    lista2.append(x)\n",
        "    contador=contador+1\n",
        "print(contador)\n",
        "for j in (lista2):\n",
        "  print(j)"
      ],
      "execution_count": 6,
      "outputs": [
        {
          "output_type": "stream",
          "text": [
            "16\n",
            "00:00\n",
            "01:10\n",
            "02:20\n",
            "03:30\n",
            "04:40\n",
            "05:50\n",
            "10:01\n",
            "11:11\n",
            "12:21\n",
            "13:31\n",
            "14:41\n",
            "15:51\n",
            "20:02\n",
            "21:12\n",
            "22:22\n",
            "23:32\n"
          ],
          "name": "stdout"
        }
      ]
    },
    {
      "cell_type": "code",
      "metadata": {
        "id": "hS81KD0l4le2",
        "outputId": "e0578876-1a8a-4b4c-9671-62de161b258d",
        "colab": {
          "base_uri": "https://localhost:8080/",
          "height": 238
        }
      },
      "source": [
        "for x in range (0,24,1):\n",
        "  for y in range(0,60,1): #1440 * 3 +13 = 4333\n",
        "    hora=str(x)+\":\"+str(y)\n",
        "    if x<10:\n",
        "      hora=\"0\"+str(x)+\":\"+str(y)\n",
        "    if y<10:\n",
        "      hora=str(x)+\"0\"+\":\"+str(y)\n",
        "\n",
        "    p=hora[::-1]\n",
        "    if  p==hora:\n",
        "      print(f\"{hora} es palindromo\")"
      ],
      "execution_count": 9,
      "outputs": [
        {
          "output_type": "stream",
          "text": [
            "01:10 es palindromo\n",
            "02:20 es palindromo\n",
            "03:30 es palindromo\n",
            "04:40 es palindromo\n",
            "05:50 es palindromo\n",
            "11:11 es palindromo\n",
            "12:21 es palindromo\n",
            "13:31 es palindromo\n",
            "14:41 es palindromo\n",
            "15:51 es palindromo\n",
            "21:12 es palindromo\n",
            "22:22 es palindromo\n",
            "23:32 es palindromo\n"
          ],
          "name": "stdout"
        }
      ]
    },
    {
      "cell_type": "code",
      "metadata": {
        "id": "FMMVzSjY5UjR",
        "outputId": "208f5386-429c-44bd-cd30-331b00c19c66",
        "colab": {
          "base_uri": "https://localhost:8080/",
          "height": 255
        }
      },
      "source": [
        "#solucion:\n",
        "total = int(0) #Contador de numero de palindromos\n",
        "for hor in range(0,24): #Bucles anidados for para dar aumentar las horas y los minutos al mismo tiempo\n",
        "  for min in range(0,60): \n",
        "\n",
        "    hor_n = str(hor) #Variables\n",
        "    min_n = str(min)\n",
        "\n",
        "    if (hor<10): #USamos condiciones para que las horas y los minutos no rebasen el horario\n",
        "      hor_n = (\"0\"+hor_n)\n",
        "      if (min<10):\n",
        "        min_n = (\"0\"+ min_n)\n",
        "\n",
        "    if (hor_n[::-1] == min_n): #Mediante un slicing le damos el formato a las horas para que este empiece desde la derecha\n",
        "      print(\"{}:{}\".format(hor_n,min_n))\n",
        "      total += 1\n",
        "#1  + 1440 * 5 =7201"
      ],
      "execution_count": 8,
      "outputs": [
        {
          "output_type": "stream",
          "text": [
            "00:00\n",
            "01:10\n",
            "02:20\n",
            "03:30\n",
            "04:40\n",
            "05:50\n",
            "11:11\n",
            "12:21\n",
            "13:31\n",
            "14:41\n",
            "15:51\n",
            "21:12\n",
            "22:22\n",
            "23:32\n"
          ],
          "name": "stdout"
        }
      ]
    },
    {
      "cell_type": "code",
      "metadata": {
        "id": "q6g4neok6Irm",
        "outputId": "0c30145a-df03-4d2b-cf59-473f744f5913",
        "colab": {
          "base_uri": "https://localhost:8080/",
          "height": 306
        }
      },
      "source": [
        "palindronum= int(0)\n",
        "for hor in range(0,24):\n",
        "  for min in range(0,60): # 1440\n",
        "    principio= str(hor)\n",
        "    final= str(min)\n",
        "    if (hor<10):\n",
        "      principio=(\"0\"+principio)\n",
        "    if (min<10):\n",
        "      final=(\"0\"+final)\n",
        "    if (principio[::-1]==final):\n",
        "      print(principio +\":\"+final)\n",
        "      palindronum= palindronum+1\n",
        "print(palindronum)\n",
        "# 1 + 1440 * 5 = 7201"
      ],
      "execution_count": 10,
      "outputs": [
        {
          "output_type": "stream",
          "text": [
            "00:00\n",
            "01:10\n",
            "02:20\n",
            "03:30\n",
            "04:40\n",
            "05:50\n",
            "10:01\n",
            "11:11\n",
            "12:21\n",
            "13:31\n",
            "14:41\n",
            "15:51\n",
            "20:02\n",
            "21:12\n",
            "22:22\n",
            "23:32\n",
            "16\n"
          ],
          "name": "stdout"
        }
      ]
    }
  ]
}