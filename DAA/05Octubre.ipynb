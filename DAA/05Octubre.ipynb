{
  "nbformat": 4,
  "nbformat_minor": 0,
  "metadata": {
    "colab": {
      "name": "05Octubre.ipynb",
      "provenance": [],
      "authorship_tag": "ABX9TyOahKQzC13yVe43rGdXdbN+",
      "include_colab_link": true
    },
    "kernelspec": {
      "name": "python3",
      "display_name": "Python 3"
    }
  },
  "cells": [
    {
      "cell_type": "markdown",
      "metadata": {
        "id": "view-in-github",
        "colab_type": "text"
      },
      "source": [
        "<a href=\"https://colab.research.google.com/github/jorgejosht/daa_2021_1/blob/master/05Octubre.ipynb\" target=\"_parent\"><img src=\"https://colab.research.google.com/assets/colab-badge.svg\" alt=\"Open In Colab\"/></a>"
      ]
    },
    {
      "cell_type": "markdown",
      "metadata": {
        "id": "GAZb2epk_WZN"
      },
      "source": [
        "#Estructuras de datos Pila (Stack)\n",
        "- Last In First Out (LIFO)\n",
        "- Es de tipo lineal\n",
        "- Se pueden obtener e ingresar datos desde el tope\n",
        "- push para agregar\n",
        "- pop para sacar\n",
        "\n",
        "## Operaciones de las pilas\n",
        "1. is_empty (regresa true o false): verifica si la pila está vacía\n",
        "2. get_top ó get_peek: regresa el elemento en el tope SIN SACARLO.\n",
        "3. pop (Saca el elemento del tope y lo regresa)\n",
        "4. push (mete un elemento en el tope)\n",
        "5. get_lenght (regresa el número de elementos de la pila)"
      ]
    },
    {
      "cell_type": "code",
      "metadata": {
        "id": "41ydNALb-aLz"
      },
      "source": [
        "class Stack:\n",
        "  def __init__(self):\n",
        "    self.__datos=[] #En java se puede meter arraylist\n",
        "\n",
        "  def is_empty(self):\n",
        "    return len(self.__datos)==0\n",
        "\n",
        "  def get_top(self):\n",
        "    return self.__datos[len(self.__datos)-1]\n",
        "\n",
        "  def pop(self):\n",
        "    return self.__datos.pop()\n",
        "\n",
        "  def push(self,valor):\n",
        "    self.__datos.append(valor)\n",
        "\n",
        "  def get_length(self):\n",
        "    return len(self.__datos)\n",
        "\n",
        "  def to_string(self):\n",
        "    print(\"|---------|\")\n",
        "    for i in self.__datos[-1::-1]:\n",
        "      print(i)\n",
        "    print(\"|---------|\")"
      ],
      "execution_count": 11,
      "outputs": []
    },
    {
      "cell_type": "code",
      "metadata": {
        "id": "hE1DCgYSFTmz",
        "outputId": "255ad84f-7c2b-4f32-c42f-e5bd4ab6efd4",
        "colab": {
          "base_uri": "https://localhost:8080/",
          "height": 476
        }
      },
      "source": [
        "pila1=Stack()\n",
        "pila1.push(10)\n",
        "pila1.push(20)\n",
        "pila1.push(1)\n",
        "pila1.push(393)\n",
        "pila1.push(103)\n",
        "pila1.to_string()\n",
        "\n",
        "sacado=pila1.pop()\n",
        "print(sacado)\n",
        "pila1.to_string()\n",
        "\n",
        "pila1.push(444)\n",
        "pila1.push(233)\n",
        "pila1.to_string()\n",
        "\n",
        "print(f\"El elemento en el tope es: {pila1.get_top()}\\n\")\n",
        "print(f\"La pila tiene {pila1.get_length()} elementos\\n\")\n",
        "print(f\"¿La pila está vacía? {pila1.is_empty()}\")"
      ],
      "execution_count": 15,
      "outputs": [
        {
          "output_type": "stream",
          "text": [
            "|---------|\n",
            "103\n",
            "393\n",
            "1\n",
            "20\n",
            "10\n",
            "|---------|\n",
            "103\n",
            "|---------|\n",
            "393\n",
            "1\n",
            "20\n",
            "10\n",
            "|---------|\n",
            "|---------|\n",
            "233\n",
            "444\n",
            "393\n",
            "1\n",
            "20\n",
            "10\n",
            "|---------|\n",
            "El elemento en el tope es: 233\n",
            "\n",
            "La pila tiene 6 elementos\n",
            "\n",
            "¿La pila está vacía? False\n"
          ],
          "name": "stdout"
        }
      ]
    },
    {
      "cell_type": "markdown",
      "metadata": {
        "id": "AmkdeJVCIsqp"
      },
      "source": [
        "# Ejemplo de aplicación de pilas\n",
        "x= 4+5+6+3   Balanceada\n",
        "\n",
        "x= 4+(5+6)+3   Balanceada\n",
        "\n",
        "x= 4+5+6)+3   NO Balanceada\n",
        "\n",
        "x= (4+(5+6)+3)   Balanceada\n",
        "\n",
        "\n",
        "if(a==b){ System.out.println(b)   No Balanceada\n",
        "\n",
        "if(a==b){ System.out.println(b}   No Balanceada\n",
        "# Reglas\n",
        "### '(' --->> push('@')\n",
        "### ')' --->> pop()\n",
        "Si al final del recorrido la pila está vacía, entonces la cadena es correcta.\n",
        "Si en un pop desencadena en querer sacar un elemento de la pila vacía significa que la cadena no está balanceada."
      ]
    },
    {
      "cell_type": "markdown",
      "metadata": {
        "id": "X8Wc8YeNNKs4"
      },
      "source": [
        "# Tarea\n",
        "Hacer un programa que valide el balanceo de '()', '[]' y '{}' en programas del lenguaje c y Java"
      ]
    }
  ]
}