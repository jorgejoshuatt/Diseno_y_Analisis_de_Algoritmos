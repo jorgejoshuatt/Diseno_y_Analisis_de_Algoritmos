{
  "nbformat": 4,
  "nbformat_minor": 0,
  "metadata": {
    "colab": {
      "name": "Tarea5.ipynb",
      "provenance": [],
      "collapsed_sections": [],
      "authorship_tag": "ABX9TyOja/1cxZUbKnYdl7x/5MuS",
      "include_colab_link": true
    },
    "kernelspec": {
      "name": "python3",
      "display_name": "Python 3"
    }
  },
  "cells": [
    {
      "cell_type": "markdown",
      "metadata": {
        "id": "view-in-github",
        "colab_type": "text"
      },
      "source": [
        "<a href=\"https://colab.research.google.com/github/jorgejosht/daa_2021_1/blob/master/Tarea5.ipynb\" target=\"_parent\"><img src=\"https://colab.research.google.com/assets/colab-badge.svg\" alt=\"Open In Colab\"/></a>"
      ]
    },
    {
      "cell_type": "code",
      "metadata": {
        "id": "fvC3GXQRrqd7",
        "outputId": "5bb2f75c-bdf9-4437-f37a-a0091a8a5180",
        "colab": {
          "base_uri": "https://localhost:8080/",
          "height": 357
        }
      },
      "source": [
        "from time import time\n",
        "def ejemplo1(n):\n",
        "  start_time = time()\n",
        "  c=n+1\n",
        "  d=c*n\n",
        "  e=n*n\n",
        "  total=c+e-d\n",
        "  elapsed_time = time() - start_time\n",
        "  print(\"Tiempo transcurrido: %0.10f segundos.\" % elapsed_time)\n",
        "  print(f\"total={total}\")\n",
        "\n",
        "for entrada in range(100,1100,100):\n",
        "  ejemplo1(entrada)\n",
        "#4"
      ],
      "execution_count": 16,
      "outputs": [
        {
          "output_type": "stream",
          "text": [
            "Tiempo transcurrido: 0.0000014305 segundos.\n",
            "total=1\n",
            "Tiempo transcurrido: 0.0000109673 segundos.\n",
            "total=1\n",
            "Tiempo transcurrido: 0.0000007153 segundos.\n",
            "total=1\n",
            "Tiempo transcurrido: 0.0000004768 segundos.\n",
            "total=1\n",
            "Tiempo transcurrido: 0.0000004768 segundos.\n",
            "total=1\n",
            "Tiempo transcurrido: 0.0000007153 segundos.\n",
            "total=1\n",
            "Tiempo transcurrido: 0.0000004768 segundos.\n",
            "total=1\n",
            "Tiempo transcurrido: 0.0000004768 segundos.\n",
            "total=1\n",
            "Tiempo transcurrido: 0.0000004768 segundos.\n",
            "total=1\n",
            "Tiempo transcurrido: 0.0000004768 segundos.\n",
            "total=1\n"
          ],
          "name": "stdout"
        }
      ]
    },
    {
      "cell_type": "code",
      "metadata": {
        "id": "ErJP3UI_sF4K",
        "outputId": "1e1a52a1-611c-4470-a82d-4bf41560cc02",
        "colab": {
          "base_uri": "https://localhost:8080/",
          "height": 357
        }
      },
      "source": [
        "from time import time\n",
        "def ejemplo2( n ):\n",
        "    start_time = time()\n",
        "    contador = 0\n",
        "    for i in range( n ) :\n",
        "        for j in range( n ) :\n",
        "            contador += 1\n",
        "    elapsed_time = time() - start_time\n",
        "    print(\"Tiempo transcurrido: %0.10f segundos.\" % elapsed_time)\n",
        "    return contador\n",
        "\n",
        "for entrada in range(100,1100,100):\n",
        "  print(ejemplo2(entrada))\n",
        "#1+n^2"
      ],
      "execution_count": 17,
      "outputs": [
        {
          "output_type": "stream",
          "text": [
            "Tiempo transcurrido: 0.0010833740 segundos.\n",
            "10000\n",
            "Tiempo transcurrido: 0.0024733543 segundos.\n",
            "40000\n",
            "Tiempo transcurrido: 0.0046579838 segundos.\n",
            "90000\n",
            "Tiempo transcurrido: 0.0079829693 segundos.\n",
            "160000\n",
            "Tiempo transcurrido: 0.0243012905 segundos.\n",
            "250000\n",
            "Tiempo transcurrido: 0.0206193924 segundos.\n",
            "360000\n",
            "Tiempo transcurrido: 0.0270123482 segundos.\n",
            "490000\n",
            "Tiempo transcurrido: 0.0339744091 segundos.\n",
            "640000\n",
            "Tiempo transcurrido: 0.0438165665 segundos.\n",
            "810000\n",
            "Tiempo transcurrido: 0.0561606884 segundos.\n",
            "1000000\n"
          ],
          "name": "stdout"
        }
      ]
    },
    {
      "cell_type": "code",
      "metadata": {
        "id": "2Pw0z7ARsLee",
        "outputId": "03386409-77d4-480e-e4ba-29cf9f3ae48b",
        "colab": {
          "base_uri": "https://localhost:8080/",
          "height": 357
        }
      },
      "source": [
        "from time import time\n",
        "def ejemplo3(n):\n",
        "  start_time = time()\n",
        "  x=n*2\n",
        "  y=0\n",
        "  for m in range(100):\n",
        "    y=x-n\n",
        "  elapsed_time = time() - start_time\n",
        "  print(\"Tiempo transcurrido: %0.10f segundos.\" % elapsed_time)\n",
        "  return y\n",
        "\n",
        "for entrada in range(100,1100,100):\n",
        "  print(ejemplo3(entrada))\n",
        "#102"
      ],
      "execution_count": 18,
      "outputs": [
        {
          "output_type": "stream",
          "text": [
            "Tiempo transcurrido: 0.0000071526 segundos.\n",
            "100\n",
            "Tiempo transcurrido: 0.0000078678 segundos.\n",
            "200\n",
            "Tiempo transcurrido: 0.0000083447 segundos.\n",
            "300\n",
            "Tiempo transcurrido: 0.0000069141 segundos.\n",
            "400\n",
            "Tiempo transcurrido: 0.0000088215 segundos.\n",
            "500\n",
            "Tiempo transcurrido: 0.0000076294 segundos.\n",
            "600\n",
            "Tiempo transcurrido: 0.0000090599 segundos.\n",
            "700\n",
            "Tiempo transcurrido: 0.0000078678 segundos.\n",
            "800\n",
            "Tiempo transcurrido: 0.0000076294 segundos.\n",
            "900\n",
            "Tiempo transcurrido: 0.0000069141 segundos.\n",
            "1000\n"
          ],
          "name": "stdout"
        }
      ]
    },
    {
      "cell_type": "code",
      "metadata": {
        "id": "lApwp6v7sP-f",
        "outputId": "30664fe0-4a64-4eca-dbdc-18d62a13f564",
        "colab": {
          "base_uri": "https://localhost:8080/",
          "height": 357
        }
      },
      "source": [
        "from time import time\n",
        "def ejemplo4( n ):\n",
        "    start_time = time()\n",
        "    x = 3 * 3.1416 + n\n",
        "    y = x + 3 * 3 - n\n",
        "    z = x + y\n",
        "    elapsed_time = time() - start_time\n",
        "    print(\"Tiempo transcurrido: %0.10f segundos.\" % elapsed_time)\n",
        "    return z\n",
        "for entrada in range(100,1100,100):\n",
        "  print(ejemplo4(entrada))\n",
        "#3"
      ],
      "execution_count": 19,
      "outputs": [
        {
          "output_type": "stream",
          "text": [
            "Tiempo transcurrido: 0.0000016689 segundos.\n",
            "127.84960000000001\n",
            "Tiempo transcurrido: 0.0000009537 segundos.\n",
            "227.8496\n",
            "Tiempo transcurrido: 0.0000007153 segundos.\n",
            "327.8496\n",
            "Tiempo transcurrido: 0.0000007153 segundos.\n",
            "427.8496\n",
            "Tiempo transcurrido: 0.0000011921 segundos.\n",
            "527.8496\n",
            "Tiempo transcurrido: 0.0000011921 segundos.\n",
            "627.8496\n",
            "Tiempo transcurrido: 0.0000009537 segundos.\n",
            "727.8496\n",
            "Tiempo transcurrido: 0.0000007153 segundos.\n",
            "827.8496\n",
            "Tiempo transcurrido: 0.0000009537 segundos.\n",
            "927.8496\n",
            "Tiempo transcurrido: 0.0000007153 segundos.\n",
            "1027.8496\n"
          ],
          "name": "stdout"
        }
      ]
    },
    {
      "cell_type": "code",
      "metadata": {
        "id": "2o6OJHOusUnn",
        "outputId": "cc54bb35-d4b5-40c5-812d-93e84d8a9e6b",
        "colab": {
          "base_uri": "https://localhost:8080/",
          "height": 357
        }
      },
      "source": [
        "from time import time\n",
        "def ejemplo5( x ):\n",
        "    start_time = time()\n",
        "    n = 10\n",
        "    for j in range( 0 , x , 1 ):\n",
        "        n = j + n\n",
        "    elapsed_time = time() - start_time\n",
        "    print(\"Tiempo transcurrido: %0.10f segundos.\" % elapsed_time)\n",
        "    return n\n",
        "for entrada in range(100,1100,100):\n",
        "  print(ejemplo5(entrada))\n",
        "#1+x"
      ],
      "execution_count": 20,
      "outputs": [
        {
          "output_type": "stream",
          "text": [
            "Tiempo transcurrido: 0.0000078678 segundos.\n",
            "4960\n",
            "Tiempo transcurrido: 0.0000178814 segundos.\n",
            "19910\n",
            "Tiempo transcurrido: 0.0000278950 segundos.\n",
            "44860\n",
            "Tiempo transcurrido: 0.0000367165 segundos.\n",
            "79810\n",
            "Tiempo transcurrido: 0.0000464916 segundos.\n",
            "124760\n",
            "Tiempo transcurrido: 0.0000576973 segundos.\n",
            "179710\n",
            "Tiempo transcurrido: 0.0000669956 segundos.\n",
            "244660\n",
            "Tiempo transcurrido: 0.0000741482 segundos.\n",
            "319610\n",
            "Tiempo transcurrido: 0.0000798702 segundos.\n",
            "404560\n",
            "Tiempo transcurrido: 0.0002205372 segundos.\n",
            "499510\n"
          ],
          "name": "stdout"
        }
      ]
    },
    {
      "cell_type": "code",
      "metadata": {
        "id": "IEW4voxDtAQO",
        "outputId": "283a7319-ee52-457b-dcf5-e61b9041791d",
        "colab": {
          "base_uri": "https://localhost:8080/",
          "height": 357
        }
      },
      "source": [
        "from time import time\n",
        "def ejemplo6( n ):\n",
        "    start_time = time()\n",
        "    data=[[[1 for x in range(n)] for x in range(n)] \n",
        "          for x in range(n)]\n",
        "    suma = 0\n",
        "    for d in range(n):\n",
        "        for r in range(n):\n",
        "            for c in range(n):\n",
        "                suma += data[d][r][c]\n",
        "    \n",
        "    elapsed_time = time() - start_time\n",
        "    print(\"Tiempo transcurrido: %0.10f segundos.\" % elapsed_time)\n",
        "    return suma\n",
        "for entrada in range(100,1100,100):\n",
        "  print(ejemplo6(entrada))"
      ],
      "execution_count": 21,
      "outputs": [
        {
          "output_type": "stream",
          "text": [
            "Tiempo transcurrido: 0.1404647827 segundos.\n",
            "1000000\n",
            "Tiempo transcurrido: 1.1305627823 segundos.\n",
            "8000000\n",
            "Tiempo transcurrido: 3.7126166821 segundos.\n",
            "27000000\n",
            "Tiempo transcurrido: 9.2736825943 segundos.\n",
            "64000000\n",
            "Tiempo transcurrido: 19.4058310986 segundos.\n",
            "125000000\n",
            "Tiempo transcurrido: 38.0143263340 segundos.\n",
            "216000000\n",
            "Tiempo transcurrido: 54.9754369259 segundos.\n",
            "343000000\n",
            "Tiempo transcurrido: 83.5827612877 segundos.\n",
            "512000000\n",
            "Tiempo transcurrido: 115.2618143559 segundos.\n",
            "729000000\n",
            "Tiempo transcurrido: 156.7663059235 segundos.\n",
            "1000000000\n"
          ],
          "name": "stdout"
        }
      ]
    }
  ]
}