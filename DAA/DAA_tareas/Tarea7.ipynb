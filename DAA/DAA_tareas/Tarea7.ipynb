{
  "nbformat": 4,
  "nbformat_minor": 0,
  "metadata": {
    "colab": {
      "name": "Tarea7.ipynb",
      "provenance": [],
      "authorship_tag": "ABX9TyOubywWgbbtqgW+2KUyC9kJ",
      "include_colab_link": true
    },
    "kernelspec": {
      "name": "python3",
      "display_name": "Python 3"
    }
  },
  "cells": [
    {
      "cell_type": "markdown",
      "metadata": {
        "id": "view-in-github",
        "colab_type": "text"
      },
      "source": [
        "<a href=\"https://colab.research.google.com/github/jorgejosht/daa_2021_1/blob/master/Tarea7.ipynb\" target=\"_parent\"><img src=\"https://colab.research.google.com/assets/colab-badge.svg\" alt=\"Open In Colab\"/></a>"
      ]
    },
    {
      "cell_type": "code",
      "metadata": {
        "colab": {
          "base_uri": "https://localhost:8080/"
        },
        "id": "AcrlmctBLJls",
        "outputId": "c70d410d-7d47-468a-950a-133b7e9bfd34"
      },
      "source": [
        "def suma(lista):\n",
        "   if len(lista) == 1:\n",
        "        return lista[0]\n",
        "   else:\n",
        "        return lista[0] + suma(lista[1:])\n",
        "print(suma([2,4,8,7,6,5,1,9,3,5]))"
      ],
      "execution_count": 50,
      "outputs": [
        {
          "output_type": "stream",
          "text": [
            "5\n"
          ],
          "name": "stdout"
        }
      ]
    },
    {
      "cell_type": "code",
      "metadata": {
        "colab": {
          "base_uri": "https://localhost:8080/"
        },
        "id": "KMR9KhyBPZWW",
        "outputId": "209d9f4f-0a9c-4f33-bdf2-157cb93b4375"
      },
      "source": [
        "def contador(x):\n",
        "  if x>0:\n",
        "    print(x)\n",
        "    contador(x-1)\n",
        "\n",
        "contador(10)"
      ],
      "execution_count": null,
      "outputs": [
        {
          "output_type": "stream",
          "text": [
            "10\n",
            "9\n",
            "8\n",
            "7\n",
            "6\n",
            "5\n",
            "4\n",
            "3\n",
            "2\n",
            "1\n"
          ],
          "name": "stdout"
        }
      ]
    },
    {
      "cell_type": "code",
      "metadata": {
        "id": "Go1ymfABVHL7",
        "colab": {
          "base_uri": "https://localhost:8080/"
        },
        "outputId": "fbae97d2-266e-4b9d-c29f-5024998a1a34"
      },
      "source": [
        "class Pila:\n",
        "  def __init__(self):\n",
        "    self.__datos=[]\n",
        "    self.__datos2=[]\n",
        "\n",
        "  def is_empty(self):\n",
        "    return len(self.__datos)==0\n",
        "\n",
        "  def get_top(self):\n",
        "    return self.__datos[len(self.__datos)-1]\n",
        "\n",
        "  def pop(self):\n",
        "    return self.__datos.pop()\n",
        "\n",
        "  def push(self,valor):\n",
        "    self.__datos.append(valor)\n",
        "\n",
        "  def get_length(self):\n",
        "    return len(self.__datos)\n",
        "\n",
        "  def to_string(self):\n",
        "    print(\"|---------|\")\n",
        "    for i in self.__datos[-1::-1]:\n",
        "      print(f\"     {i}\")\n",
        "    print(\"|---------|\")\n",
        "\n",
        "  def partir_pila(self):\n",
        "    mitad=len(self.__datos)//2\n",
        "    if mitad%2==0:\n",
        "      for i in self.__datos[0:mitad]:\n",
        "        self.__datos2.append(i)\n",
        "      print(\"|---------|\")\n",
        "      for i in self.__datos2[-1::-1]:\n",
        "        print(f\"     {i}\")\n",
        "      print(\"|---------|\")\n",
        "    else:\n",
        "      for i in self.__datos[0:mitad+1]:\n",
        "        self.__datos2.append(i)\n",
        "      print(\"|---------|\")\n",
        "      for i in self.__datos2[-1::-1]:\n",
        "        print(f\"     {i}\")\n",
        "      print(\"|---------|\")\n",
        " \n",
        "  def get_top2(self):\n",
        "    return self.__datos2[len(self.__datos2)-1]\n",
        "\n",
        "pila=Pila()\n",
        "pila.push(4)\n",
        "pila.push(7)\n",
        "pila.push(10)\n",
        "pila.push(2)\n",
        "pila.push(34)\n",
        "pila.push(6)\n",
        "pila.push(21)\n",
        "print(\"Pila completa: \")\n",
        "pila.to_string()\n",
        "pila.get_top()\n",
        "print(\"\\nPila partida: \")\n",
        "pila.partir_pila()\n",
        "print(f\"\\nValor en la posción media de la pila original: {pila.get_top2()}\")\n",
        "\n"
      ],
      "execution_count": 240,
      "outputs": [
        {
          "output_type": "stream",
          "text": [
            "Pila completa: \n",
            "|---------|\n",
            "     21\n",
            "     6\n",
            "     34\n",
            "     2\n",
            "     10\n",
            "     7\n",
            "     4\n",
            "|---------|\n",
            "\n",
            "Pila partida: \n",
            "|---------|\n",
            "     2\n",
            "     10\n",
            "     7\n",
            "     4\n",
            "|---------|\n",
            "\n",
            "Valor en la posción media de la pila original: 2\n"
          ],
          "name": "stdout"
        }
      ]
    }
  ]
}