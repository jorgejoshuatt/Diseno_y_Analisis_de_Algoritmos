{
  "nbformat": 4,
  "nbformat_minor": 0,
  "metadata": {
    "colab": {
      "name": "Tarea10.ipynb",
      "provenance": [],
      "authorship_tag": "ABX9TyPfFgD7h5QKngBYslN1few4",
      "include_colab_link": true
    },
    "kernelspec": {
      "name": "python3",
      "display_name": "Python 3"
    }
  },
  "cells": [
    {
      "cell_type": "markdown",
      "metadata": {
        "id": "view-in-github",
        "colab_type": "text"
      },
      "source": [
        "<a href=\"https://colab.research.google.com/github/jorgejosht/daa_2021_1/blob/master/Tarea10.ipynb\" target=\"_parent\"><img src=\"https://colab.research.google.com/assets/colab-badge.svg\" alt=\"Open In Colab\"/></a>"
      ]
    },
    {
      "cell_type": "code",
      "metadata": {
        "id": "wFtdOgnphuJ8"
      },
      "source": [
        "class NodoArbol:\r\n",
        "  def __init__(self,value,left=None,right=None):\r\n",
        "    self.data=value\r\n",
        "    self.left=left\r\n",
        "    self.right=right"
      ],
      "execution_count": 115,
      "outputs": []
    },
    {
      "cell_type": "code",
      "metadata": {
        "colab": {
          "base_uri": "https://localhost:8080/"
        },
        "id": "jMy2qM3qvjT0",
        "outputId": "c426ead3-d989-448d-cf61-157c0aaffae9"
      },
      "source": [
        "arbol=NodoArbol(2, \r\n",
        "                  NodoArbol(84,NodoArbol(26,NodoArbol(1),None),NodoArbol(16,NodoArbol(28),NodoArbol(36))), \r\n",
        "                  NodoArbol(15,NodoArbol(11),NodoArbol(12,None,NodoArbol(100,None,NodoArbol(8)))))\r\n",
        "aux=arbol\r\n",
        "nivel=1\r\n",
        "while aux.right != None:\r\n",
        "  aux=aux.right\r\n",
        "  nivel=nivel+1\r\n",
        "\r\n",
        "aux2=arbol\r\n",
        "nivel2=1\r\n",
        "while aux2.left != None:\r\n",
        "  aux2=aux2.left\r\n",
        "  nivel2=nivel2+1\r\n",
        "\r\n",
        "if nivel>nivel2:\r\n",
        "  print(f\"El elemento en el nivel más alto a la derecha es: {aux.data} con un nivel de {nivel}\")\r\n",
        "else:\r\n",
        "  print(f\"El elemento en el nivel más alto a la izquierda es: {aux2.data} con un nivel de {nivel2}\")"
      ],
      "execution_count": 166,
      "outputs": [
        {
          "output_type": "stream",
          "text": [
            "El elemento en el nivel más alto a la derecha es: 8 con un nivel de 5\n"
          ],
          "name": "stdout"
        }
      ]
    },
    {
      "cell_type": "code",
      "metadata": {
        "colab": {
          "base_uri": "https://localhost:8080/"
        },
        "id": "UNcnV2RNvjG5",
        "outputId": "f7ed4955-a983-4f72-d964-5555f8e981cf"
      },
      "source": [
        "arbol2=NodoArbol('J', \r\n",
        "                  NodoArbol('R',NodoArbol('S'),NodoArbol('C')), \r\n",
        "                  NodoArbol('X',None,NodoArbol('T',NodoArbol('D'),NodoArbol('A'))))\r\n",
        "aux=arbol2\r\n",
        "nivel=1\r\n",
        "while aux.right != None:\r\n",
        "  aux=aux.right\r\n",
        "  nivel=nivel+1\r\n",
        "\r\n",
        "aux2=arbol2\r\n",
        "nivel2=1\r\n",
        "while aux2.left != None:\r\n",
        "  aux2=aux2.left\r\n",
        "  nivel2=nivel2+1\r\n",
        "\r\n",
        "if nivel>nivel2:\r\n",
        "  print(f\"El elemento en el nivel más alto a la derecha es: {aux.data} con un nivel de {nivel}\")\r\n",
        "else:\r\n",
        "  print(f\"El elemento en el nivel más alto a la izquierda es: {aux2.data} con un nivel de {nivel2}\")"
      ],
      "execution_count": 165,
      "outputs": [
        {
          "output_type": "stream",
          "text": [
            "El elemento en el nivel más alto a la derecha es: A con un nivel de 4\n"
          ],
          "name": "stdout"
        }
      ]
    },
    {
      "cell_type": "code",
      "metadata": {
        "id": "tyfZgdkDhxWQ",
        "colab": {
          "base_uri": "https://localhost:8080/"
        },
        "outputId": "e8e3a83f-08cf-4f8f-9901-9da2f894c00b"
      },
      "source": [
        "arbol3=NodoArbol(5, \r\n",
        "                  NodoArbol(7,NodoArbol(15,NodoArbol(2),NodoArbol(4)),NodoArbol(8)), \r\n",
        "                  NodoArbol(9,None,NodoArbol(10)))\r\n",
        "aux=arbol3\r\n",
        "nivel=1\r\n",
        "while aux.right != None:\r\n",
        "  aux=aux.right\r\n",
        "  nivel=nivel+1\r\n",
        "\r\n",
        "aux2=arbol3\r\n",
        "nivel2=1\r\n",
        "while aux2.left != None:\r\n",
        "  aux2=aux2.left\r\n",
        "  nivel2=nivel2+1\r\n",
        "\r\n",
        "if nivel>nivel2:\r\n",
        "  print(f\"El elemento en el nivel más alto a la derecha es: {aux.data} con un nivel de {nivel}\")\r\n",
        "else:\r\n",
        "  print(f\"El elemento en el nivel más alto a la izquierda es: {aux2.data} con un nivel de {nivel2}\")"
      ],
      "execution_count": 155,
      "outputs": [
        {
          "output_type": "stream",
          "text": [
            "El elemento en el nivel más alto a la izquierda es: 2 con un nivel de 4\n"
          ],
          "name": "stdout"
        }
      ]
    },
    {
      "cell_type": "code",
      "metadata": {
        "colab": {
          "base_uri": "https://localhost:8080/"
        },
        "id": "vSCxKRU6hxIa",
        "outputId": "bf4b66fd-db85-459c-cec9-5bbfd4fcb4fc"
      },
      "source": [
        "arbol4=NodoArbol('r', \r\n",
        "                  NodoArbol('b',NodoArbol('s'),NodoArbol('m')), \r\n",
        "                  NodoArbol('p',NodoArbol(1),NodoArbol(2, NodoArbol('z'), NodoArbol('h'))))\r\n",
        "aux=arbol4\r\n",
        "nivel=1\r\n",
        "while aux.right != None:\r\n",
        "  aux=aux.right\r\n",
        "  nivel=nivel+1\r\n",
        "\r\n",
        "aux2=arbol4\r\n",
        "nivel2=1\r\n",
        "while aux2.left != None:\r\n",
        "  aux2=aux2.left\r\n",
        "  nivel2=nivel2+1\r\n",
        "\r\n",
        "if nivel>nivel2:\r\n",
        "  print(f\"El elemento en el nivel más alto a la derecha es: {aux.data} con un nivel de {nivel}\")\r\n",
        "else:\r\n",
        "  print(f\"El elemento en el nivel más alto a la izquierda es: {aux2.data} con un nivel de {nivel2}\")\r\n",
        "\r\n"
      ],
      "execution_count": 154,
      "outputs": [
        {
          "output_type": "stream",
          "text": [
            "El elemento en el nivel más alto a la derecha es: h con un nivel de 4\n"
          ],
          "name": "stdout"
        }
      ]
    }
  ]
}