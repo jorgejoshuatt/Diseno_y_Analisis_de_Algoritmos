{
  "nbformat": 4,
  "nbformat_minor": 0,
  "metadata": {
    "colab": {
      "name": "Tarea8_Busquedabinariarecursiva.ipynb",
      "provenance": [],
      "authorship_tag": "ABX9TyPlElL1JhSNXIFHNqTKHm9A",
      "include_colab_link": true
    },
    "kernelspec": {
      "name": "python3",
      "display_name": "Python 3"
    }
  },
  "cells": [
    {
      "cell_type": "markdown",
      "metadata": {
        "id": "view-in-github",
        "colab_type": "text"
      },
      "source": [
        "<a href=\"https://colab.research.google.com/github/jorgejosht/daa_2021_1/blob/master/Tarea8_Busquedabinariarecursiva.ipynb\" target=\"_parent\"><img src=\"https://colab.research.google.com/assets/colab-badge.svg\" alt=\"Open In Colab\"/></a>"
      ]
    },
    {
      "cell_type": "code",
      "metadata": {
        "colab": {
          "base_uri": "https://localhost:8080/"
        },
        "id": "6o_hQ4I39IZg",
        "outputId": "6144e337-5e90-40ec-cff8-b5d850d00a8a"
      },
      "source": [
        "def busqueda_binaria_recursiva( L , buscado, IZQ , DER):\n",
        "    MID = (IZQ + DER) //2\n",
        "    if IZQ >= DER:\n",
        "        return -1\n",
        "    if L[MID] == buscado: \n",
        "        return MID\n",
        "    elif L[MID] < buscado:\n",
        "        return busqueda_binaria_recursiva(L,buscado,MID+1,DER)\n",
        "    else:\n",
        "        return busqueda_binaria_recursiva(L,buscado,IZQ,MID)\n",
        "\n",
        "alumno1={'id':2, 'nombre':\"Juan\" , 'carrera':\"ICO\", 'promedio':7.67}\n",
        "alumno2={'id':4, 'nombre':\"Rocio\" , 'carrera':\"ICI\", 'promedio':8.67}\n",
        "alumno3={'id':5, 'nombre':\"Diego\" , 'carrera':\"DER\", 'promedio':8.98}\n",
        "alumno4={'id':7, 'nombre':\"May\" , 'carrera':\"ICI\", 'promedio':9.87}\n",
        "alumno5={'id':9, 'nombre':\"Rob\" , 'carrera':\"IME\", 'promedio':10.00}\n",
        "alumno6={'id':10, 'nombre':\"Santi\" , 'carrera':\"ICO\", 'promedio':5.37}\n",
        "alumno7={'id':14, 'nombre':\"Moy\" , 'carrera':\"IME\", 'promedio':6.85}\n",
        "alumno8={'id':16, 'nombre':\"Diana\" , 'carrera':\"DER\", 'promedio':9.99}\n",
        "alumno9={'id':19, 'nombre':\"Zoila\" , 'carrera':\"ICO\", 'promedio':8.22}\n",
        "alumno10={'id':22, 'nombre':\"Armando\" , 'carrera':\"ICO\", 'promedio':7.32}\n",
        "\n",
        "bd = []\n",
        "bd.append(alumno1)\n",
        "bd.append(alumno2)\n",
        "bd.append(alumno3)\n",
        "bd.append(alumno4)\n",
        "bd.append(alumno5)\n",
        "bd.append(alumno6)\n",
        "bd.append(alumno7)\n",
        "bd.append(alumno8)\n",
        "bd.append(alumno9)\n",
        "bd.append(alumno10)\n",
        "\n",
        "id=[]\n",
        "for i in range(0,len(bd)):\n",
        "  id_e=bd[i].get('id')\n",
        "  id.append(id_e)\n",
        "\n",
        "id_b=int(input(\"Inserta el id del alumno a buscar: \"))\n",
        "alumno=busqueda_binaria_recursiva( id , id_b, 0 , len(bd))\n",
        "if alumno==-1:\n",
        "  print(\"El alumno no existe en la base de datos.\")\n",
        "else:  \n",
        "  print(f\"{bd[alumno].get('nombre')} estudia la carrera {bd[alumno].get('carrera')} y tiene un promedio de {bd[alumno].get('promedio')}.\\n\")\n",
        "\n",
        "repetir=input(\"¿Desea buscar otro id? (S/N): \")  \n",
        "while repetir=='s' or repetir=='y' or repetir=='S' or repetir =='si' or repetir=='Si' or repetir=='Sí' or repetir=='yes':\n",
        "  id_b=int(input(\"\\nInserta el id del alumno a buscar: \"))\n",
        "  alumno=busqueda_binaria_recursiva( id , id_b, 0 , len(bd))\n",
        "  if alumno==-1:\n",
        "    print(\"El alumno no existe en la base de datos.\\n\")\n",
        "  else:  \n",
        "    print(f\"{bd[alumno].get('nombre')} estudia la carrera {bd[alumno].get('carrera')} y tiene un promedio de {bd[alumno].get('promedio')}.\\n\")\n",
        "\n",
        "  repetir=input(\"¿Desea buscar otro id? (S/N): \\n\")  "
      ],
      "execution_count": 66,
      "outputs": [
        {
          "output_type": "stream",
          "text": [
            "Inserta el id del alumno a buscar: 2\n",
            "Juan estudia la carrera ICO y tiene un promedio de 7.67.\n",
            "\n",
            "¿Desea buscar otro id? (S/N): s\n",
            "\n",
            "Inserta el id del alumno a buscar: 10\n",
            "Santi estudia la carrera ICO y tiene un promedio de 5.37.\n",
            "\n",
            "¿Desea buscar otro id? (S/N): \n",
            "s\n",
            "\n",
            "Inserta el id del alumno a buscar: 1\n",
            "El alumno no existe en la base de datos.\n",
            "\n",
            "¿Desea buscar otro id? (S/N): \n",
            "n\n"
          ],
          "name": "stdout"
        }
      ]
    }
  ]
}