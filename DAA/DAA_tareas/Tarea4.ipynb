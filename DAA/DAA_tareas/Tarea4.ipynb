{
  "nbformat": 4,
  "nbformat_minor": 0,
  "metadata": {
    "colab": {
      "name": "Tarea4.ipynb",
      "provenance": [],
      "authorship_tag": "ABX9TyOD3zctOA0fC/5orzqsIp41",
      "include_colab_link": true
    },
    "kernelspec": {
      "name": "python3",
      "display_name": "Python 3"
    }
  },
  "cells": [
    {
      "cell_type": "markdown",
      "metadata": {
        "id": "view-in-github",
        "colab_type": "text"
      },
      "source": [
        "<a href=\"https://colab.research.google.com/github/jorgejosht/daa_2021_1/blob/master/Tarea4.ipynb\" target=\"_parent\"><img src=\"https://colab.research.google.com/assets/colab-badge.svg\" alt=\"Open In Colab\"/></a>"
      ]
    },
    {
      "cell_type": "code",
      "metadata": {
        "id": "zPtn1DXSYOZy",
        "outputId": "2900c739-6362-4370-9c59-74d5fb06f8c6",
        "colab": {
          "base_uri": "https://localhost:8080/",
          "height": 102
        }
      },
      "source": [
        "def ejemplo4(n):\n",
        "  count=0\n",
        "  print(\"nivel 1\")\n",
        "  i=n\n",
        "  while i>=1:\n",
        "    count+=1\n",
        "    print(\"nivel 2\")\n",
        "    i=i//2\n",
        "  basura=3+2\n",
        "  return count\n",
        "\n",
        "ejemplo4(4)"
      ],
      "execution_count": 7,
      "outputs": [
        {
          "output_type": "stream",
          "text": [
            "nivel 1\n",
            "nivel 2\n",
            "nivel 2\n",
            "nivel 2\n"
          ],
          "name": "stdout"
        },
        {
          "output_type": "execute_result",
          "data": {
            "text/plain": [
              "3"
            ]
          },
          "metadata": {
            "tags": []
          },
          "execution_count": 7
        }
      ]
    },
    {
      "cell_type": "code",
      "metadata": {
        "id": "_dZ5LB3BrTUx",
        "outputId": "b43948b3-6b60-437c-f3b6-bf150cb11db0",
        "colab": {
          "base_uri": "https://localhost:8080/",
          "height": 119
        }
      },
      "source": [
        "ejemplo4(9)"
      ],
      "execution_count": 6,
      "outputs": [
        {
          "output_type": "stream",
          "text": [
            "nivel 1\n",
            "nivel 2\n",
            "nivel 2\n",
            "nivel 2\n",
            "nivel 2\n"
          ],
          "name": "stdout"
        },
        {
          "output_type": "execute_result",
          "data": {
            "text/plain": [
              "4"
            ]
          },
          "metadata": {
            "tags": []
          },
          "execution_count": 6
        }
      ]
    },
    {
      "cell_type": "code",
      "metadata": {
        "id": "i1iXoQ3Etj_R",
        "outputId": "392b1369-817f-4c4e-d59a-d5c3bf5ac51c",
        "colab": {
          "base_uri": "https://localhost:8080/",
          "height": 136
        }
      },
      "source": [
        "ejemplo4(20)"
      ],
      "execution_count": 8,
      "outputs": [
        {
          "output_type": "stream",
          "text": [
            "nivel 1\n",
            "nivel 2\n",
            "nivel 2\n",
            "nivel 2\n",
            "nivel 2\n",
            "nivel 2\n"
          ],
          "name": "stdout"
        },
        {
          "output_type": "execute_result",
          "data": {
            "text/plain": [
              "5"
            ]
          },
          "metadata": {
            "tags": []
          },
          "execution_count": 8
        }
      ]
    },
    {
      "cell_type": "code",
      "metadata": {
        "id": "FF16Jx30tndu",
        "outputId": "aef384a8-5a18-4c00-8d4a-875f821dca94",
        "colab": {
          "base_uri": "https://localhost:8080/",
          "height": 170
        }
      },
      "source": [
        "ejemplo4(100)"
      ],
      "execution_count": 9,
      "outputs": [
        {
          "output_type": "stream",
          "text": [
            "nivel 1\n",
            "nivel 2\n",
            "nivel 2\n",
            "nivel 2\n",
            "nivel 2\n",
            "nivel 2\n",
            "nivel 2\n",
            "nivel 2\n"
          ],
          "name": "stdout"
        },
        {
          "output_type": "execute_result",
          "data": {
            "text/plain": [
              "7"
            ]
          },
          "metadata": {
            "tags": []
          },
          "execution_count": 9
        }
      ]
    },
    {
      "cell_type": "code",
      "metadata": {
        "id": "_eXPhA9Otrb0",
        "outputId": "7ab8b861-c792-4d1d-8622-13fad48afc45",
        "colab": {
          "base_uri": "https://localhost:8080/",
          "height": 221
        }
      },
      "source": [
        "ejemplo4(1000)"
      ],
      "execution_count": 10,
      "outputs": [
        {
          "output_type": "stream",
          "text": [
            "nivel 1\n",
            "nivel 2\n",
            "nivel 2\n",
            "nivel 2\n",
            "nivel 2\n",
            "nivel 2\n",
            "nivel 2\n",
            "nivel 2\n",
            "nivel 2\n",
            "nivel 2\n",
            "nivel 2\n"
          ],
          "name": "stdout"
        },
        {
          "output_type": "execute_result",
          "data": {
            "text/plain": [
              "10"
            ]
          },
          "metadata": {
            "tags": []
          },
          "execution_count": 10
        }
      ]
    }
  ]
}